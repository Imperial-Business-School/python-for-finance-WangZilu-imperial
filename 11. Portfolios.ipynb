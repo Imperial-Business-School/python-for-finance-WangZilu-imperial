{
 "cells": [
  {
   "attachments": {},
   "cell_type": "markdown",
   "metadata": {},
   "source": [
    "# Portfolio Management\n",
    "\n",
    "A portfolio is a collection of financial investments. Let's see how we construct, analyse and optimise portfolios with Python. Like with every notebook, this one starts with a list of imports."
   ]
  },
  {
   "cell_type": "code",
   "execution_count": 1,
   "metadata": {},
   "outputs": [],
   "source": [
    "import numpy as np\n",
    "import matplotlib.pyplot as plt\n",
    "import pandas as pd\n",
    "import seaborn as sns\n",
    "import yfinance as yf\n",
    "\n",
    "plt.style.use(\"ggplot\")"
   ]
  },
  {
   "attachments": {},
   "cell_type": "markdown",
   "metadata": {},
   "source": [
    "## Portfolio Formation\n",
    "\n",
    "Today we'll form what is known as a 1/N portfolio, with 5 stocks in it. The 1/N refers to the total investment being divided equally among the N stocks that comprise the portfolio - which is 5 in our case today.\n",
    "\n",
    "Depending on what kind of data we have, portfolio formation can involve different steps.\n",
    "\n",
    "### Exercise: Pull a Portfolio (Yahoo! Finance)\n",
    "\n",
    "In this exercise, you'll pull Yahoo Finance data into panel data using yfinance.\n",
    "\n",
    "Here is an example of how we could join together data from multiple CSV files. Can you adapt this code to instead join together data pulled directly from Yahoo Finance?\n",
    "\n",
    "```python\n",
    "tickers = [\"TSLA\", \"MSFT\", \"AMZN\", \"META\", \"NVDA\"]\n",
    "groups = []\n",
    "\n",
    "for ticker in tickers:\n",
    "    data = pd.read_csv(ticker + \"_2020.csv\")\n",
    "    df.columns = df.columns.droplevel(1)\n",
    "    data.insert(0, \"Ticker\", ticker)\n",
    "    groups.append(data)\n",
    "\n",
    "multi_df = pd.concat(data)\n",
    "multi_df\n",
    "```\n",
    "\n",
    "Try it out in the code cell below:"
   ]
  },
  {
   "cell_type": "code",
   "execution_count": null,
   "metadata": {},
   "outputs": [
    {
     "name": "stderr",
     "output_type": "stream",
     "text": [
      "[*********************100%***********************]  1 of 1 completed\n",
      "[*********************100%***********************]  1 of 1 completed\n",
      "[*********************100%***********************]  1 of 1 completed\n",
      "[*********************100%***********************]  1 of 1 completed\n",
      "[*********************100%***********************]  1 of 1 completed\n"
     ]
    },
    {
     "data": {
      "application/vnd.microsoft.datawrangler.viewer.v0+json": {
       "columns": [
        {
         "name": "Date",
         "rawType": "datetime64[ns]",
         "type": "datetime"
        },
        {
         "name": "Ticker",
         "rawType": "object",
         "type": "string"
        },
        {
         "name": "Adj Close",
         "rawType": "float64",
         "type": "float"
        },
        {
         "name": "Close",
         "rawType": "float64",
         "type": "float"
        },
        {
         "name": "High",
         "rawType": "float64",
         "type": "float"
        },
        {
         "name": "Low",
         "rawType": "float64",
         "type": "float"
        },
        {
         "name": "Open",
         "rawType": "float64",
         "type": "float"
        },
        {
         "name": "Volume",
         "rawType": "int64",
         "type": "integer"
        }
       ],
       "ref": "d9cc9520-22c8-4323-a23c-c995ff7dbc9e",
       "rows": [
        [
         "2020-01-02 00:00:00",
         "TSLA",
         "28.68400001525879",
         "28.68400001525879",
         "28.713333129882812",
         "28.11400032043457",
         "28.299999237060547",
         "142981500"
        ],
        [
         "2020-01-03 00:00:00",
         "TSLA",
         "29.534000396728516",
         "29.534000396728516",
         "30.266666412353516",
         "29.128000259399414",
         "29.366666793823242",
         "266677500"
        ],
        [
         "2020-01-06 00:00:00",
         "TSLA",
         "30.1026668548584",
         "30.1026668548584",
         "30.104000091552734",
         "29.333332061767578",
         "29.364667892456055",
         "151995000"
        ],
        [
         "2020-01-07 00:00:00",
         "TSLA",
         "31.270666122436523",
         "31.270666122436523",
         "31.441999435424805",
         "30.224000930786133",
         "30.760000228881836",
         "268231500"
        ],
        [
         "2020-01-08 00:00:00",
         "TSLA",
         "32.80933380126953",
         "32.80933380126953",
         "33.232666015625",
         "31.215333938598633",
         "31.579999923706055",
         "467164500"
        ],
        [
         "2020-01-09 00:00:00",
         "TSLA",
         "32.089332580566406",
         "32.089332580566406",
         "33.253334045410156",
         "31.524667739868164",
         "33.13999938964844",
         "426606000"
        ],
        [
         "2020-01-10 00:00:00",
         "TSLA",
         "31.876667022705078",
         "31.876667022705078",
         "32.3293342590332",
         "31.579999923706055",
         "32.11933135986328",
         "194392500"
        ],
        [
         "2020-01-13 00:00:00",
         "TSLA",
         "34.990665435791016",
         "34.990665435791016",
         "35.04199981689453",
         "32.79999923706055",
         "32.900001525878906",
         "397764000"
        ],
        [
         "2020-01-14 00:00:00",
         "TSLA",
         "35.861331939697266",
         "35.861331939697266",
         "36.49399948120117",
         "34.99333190917969",
         "36.284000396728516",
         "434943000"
        ],
        [
         "2020-01-15 00:00:00",
         "TSLA",
         "34.56666564941406",
         "34.56666564941406",
         "35.85599899291992",
         "34.452667236328125",
         "35.31733322143555",
         "260532000"
        ],
        [
         "2020-01-16 00:00:00",
         "TSLA",
         "34.232666015625",
         "34.232666015625",
         "34.297332763671875",
         "32.81133270263672",
         "32.91666793823242",
         "326050500"
        ],
        [
         "2020-01-17 00:00:00",
         "TSLA",
         "34.03333282470703",
         "34.03333282470703",
         "34.37799835205078",
         "33.54399871826172",
         "33.840667724609375",
         "204436500"
        ],
        [
         "2020-01-21 00:00:00",
         "TSLA",
         "36.47999954223633",
         "36.47999954223633",
         "36.571998596191406",
         "35.227333068847656",
         "35.349998474121094",
         "267052500"
        ],
        [
         "2020-01-22 00:00:00",
         "TSLA",
         "37.97066879272461",
         "37.97066879272461",
         "39.633331298828125",
         "37.27333450317383",
         "38.125999450683594",
         "470535000"
        ],
        [
         "2020-01-23 00:00:00",
         "TSLA",
         "38.14666748046875",
         "38.14666748046875",
         "38.79999923706055",
         "37.040000915527344",
         "37.616668701171875",
         "294765000"
        ],
        [
         "2020-01-24 00:00:00",
         "TSLA",
         "37.654666900634766",
         "37.654666900634766",
         "38.25733184814453",
         "36.95066833496094",
         "38.04199981689453",
         "215304000"
        ],
        [
         "2020-01-27 00:00:00",
         "TSLA",
         "37.201332092285156",
         "37.201332092285156",
         "37.62933349609375",
         "35.95199966430664",
         "36.132667541503906",
         "204121500"
        ],
        [
         "2020-01-28 00:00:00",
         "TSLA",
         "37.793331146240234",
         "37.793331146240234",
         "38.45399856567383",
         "37.2053337097168",
         "37.89933395385742",
         "176827500"
        ],
        [
         "2020-01-29 00:00:00",
         "TSLA",
         "38.732666015625",
         "38.732666015625",
         "39.31999969482422",
         "37.82866668701172",
         "38.37933349609375",
         "267022500"
        ],
        [
         "2020-01-30 00:00:00",
         "TSLA",
         "42.72066879272461",
         "42.72066879272461",
         "43.391998291015625",
         "41.20000076293945",
         "42.16133117675781",
         "435085500"
        ],
        [
         "2020-01-31 00:00:00",
         "TSLA",
         "43.371334075927734",
         "43.371334075927734",
         "43.53333282470703",
         "42.167999267578125",
         "42.66666793823242",
         "235789500"
        ],
        [
         "2020-02-03 00:00:00",
         "TSLA",
         "52.0",
         "52.0",
         "52.409332275390625",
         "44.90133285522461",
         "44.91266632080078",
         "705975000"
        ],
        [
         "2020-02-04 00:00:00",
         "TSLA",
         "59.137332916259766",
         "59.137332916259766",
         "64.59933471679688",
         "55.59199905395508",
         "58.86399841308594",
         "914082000"
        ],
        [
         "2020-02-05 00:00:00",
         "TSLA",
         "48.97999954223633",
         "48.97999954223633",
         "56.39866638183594",
         "46.94066619873047",
         "54.88399887084961",
         "726357000"
        ],
        [
         "2020-02-06 00:00:00",
         "TSLA",
         "49.930667877197266",
         "49.930667877197266",
         "53.05533218383789",
         "45.79999923706055",
         "46.66133117675781",
         "598212000"
        ],
        [
         "2020-02-07 00:00:00",
         "TSLA",
         "49.871334075927734",
         "49.871334075927734",
         "51.31666564941406",
         "48.66666793823242",
         "48.70333480834961",
         "255952500"
        ],
        [
         "2020-02-10 00:00:00",
         "TSLA",
         "51.41866683959961",
         "51.41866683959961",
         "54.66600036621094",
         "50.15999984741211",
         "53.33333206176758",
         "370338000"
        ],
        [
         "2020-02-11 00:00:00",
         "TSLA",
         "51.62533187866211",
         "51.62533187866211",
         "52.23400115966797",
         "50.53333282470703",
         "51.25266647338867",
         "175462500"
        ],
        [
         "2020-02-12 00:00:00",
         "TSLA",
         "51.15266799926758",
         "51.15266799926758",
         "52.650001525878906",
         "50.891334533691406",
         "51.858001708984375",
         "180337500"
        ],
        [
         "2020-02-13 00:00:00",
         "TSLA",
         "53.599998474121094",
         "53.599998474121094",
         "54.53333282470703",
         "49.0",
         "49.45600128173828",
         "394339500"
        ],
        [
         "2020-02-14 00:00:00",
         "TSLA",
         "53.33533477783203",
         "53.33533477783203",
         "54.198001861572266",
         "52.366668701171875",
         "52.4813346862793",
         "235405500"
        ],
        [
         "2020-02-18 00:00:00",
         "TSLA",
         "57.22666549682617",
         "57.22666549682617",
         "57.33333206176758",
         "55.490665435791016",
         "56.106666564941406",
         "245725500"
        ],
        [
         "2020-02-19 00:00:00",
         "TSLA",
         "61.16133117675781",
         "61.16133117675781",
         "62.98533248901367",
         "60.06800079345703",
         "61.56666564941406",
         "381345000"
        ],
        [
         "2020-02-20 00:00:00",
         "TSLA",
         "59.96066665649414",
         "59.96066665649414",
         "60.79999923706055",
         "57.3293342590332",
         "60.79666519165039",
         "264523500"
        ],
        [
         "2020-02-21 00:00:00",
         "TSLA",
         "60.06666564941406",
         "60.06666564941406",
         "60.87066650390625",
         "58.6966667175293",
         "60.46533203125",
         "214722000"
        ],
        [
         "2020-02-24 00:00:00",
         "TSLA",
         "55.58599853515625",
         "55.58599853515625",
         "57.56666564941406",
         "54.813331604003906",
         "55.93333435058594",
         "227883000"
        ],
        [
         "2020-02-25 00:00:00",
         "TSLA",
         "53.32733154296875",
         "53.32733154296875",
         "57.106666564941406",
         "52.46666717529297",
         "56.599998474121094",
         "259357500"
        ],
        [
         "2020-02-26 00:00:00",
         "TSLA",
         "51.91999816894531",
         "51.91999816894531",
         "54.22066879272461",
         "51.740665435791016",
         "52.16666793823242",
         "211282500"
        ],
        [
         "2020-02-27 00:00:00",
         "TSLA",
         "45.266666412353516",
         "45.266666412353516",
         "49.31800079345703",
         "44.599998474121094",
         "48.66666793823242",
         "364158000"
        ],
        [
         "2020-02-28 00:00:00",
         "TSLA",
         "44.53266525268555",
         "44.53266525268555",
         "46.03466796875",
         "40.768001556396484",
         "41.97999954223633",
         "363343500"
        ],
        [
         "2020-03-02 00:00:00",
         "TSLA",
         "49.574668884277344",
         "49.574668884277344",
         "49.5793342590332",
         "45.77799987792969",
         "47.41733169555664",
         "302925000"
        ],
        [
         "2020-03-03 00:00:00",
         "TSLA",
         "49.70066833496094",
         "49.70066833496094",
         "53.798667907714844",
         "47.740665435791016",
         "53.66666793823242",
         "386760000"
        ],
        [
         "2020-03-04 00:00:00",
         "TSLA",
         "49.96666717529297",
         "49.96666717529297",
         "51.10133361816406",
         "48.31533432006836",
         "50.930667877197266",
         "225735000"
        ],
        [
         "2020-03-05 00:00:00",
         "TSLA",
         "48.30266571044922",
         "48.30266571044922",
         "49.71666717529297",
         "47.871334075927734",
         "48.2513313293457",
         "162790500"
        ],
        [
         "2020-03-06 00:00:00",
         "TSLA",
         "46.89866638183594",
         "46.89866638183594",
         "47.133331298828125",
         "45.61800003051758",
         "46.0",
         "189943500"
        ],
        [
         "2020-03-09 00:00:00",
         "TSLA",
         "40.53333282470703",
         "40.53333282470703",
         "44.20000076293945",
         "40.33333206176758",
         "40.35933303833008",
         "256105500"
        ],
        [
         "2020-03-10 00:00:00",
         "TSLA",
         "43.02199935913086",
         "43.02199935913086",
         "44.53333282470703",
         "40.53333282470703",
         "43.96200180053711",
         "233916000"
        ],
        [
         "2020-03-11 00:00:00",
         "TSLA",
         "42.28200149536133",
         "42.28200149536133",
         "43.571998596191406",
         "40.866668701171875",
         "42.68000030517578",
         "199837500"
        ],
        [
         "2020-03-12 00:00:00",
         "TSLA",
         "37.369998931884766",
         "37.369998931884766",
         "39.633331298828125",
         "36.41666793823242",
         "38.72600173950195",
         "283636500"
        ],
        [
         "2020-03-13 00:00:00",
         "TSLA",
         "36.44133377075195",
         "36.44133377075195",
         "40.50466537475586",
         "33.46666717529297",
         "39.66666793823242",
         "339604500"
        ]
       ],
       "shape": {
        "columns": 7,
        "rows": 6865
       }
      },
      "text/html": [
       "<div>\n",
       "<style scoped>\n",
       "    .dataframe tbody tr th:only-of-type {\n",
       "        vertical-align: middle;\n",
       "    }\n",
       "\n",
       "    .dataframe tbody tr th {\n",
       "        vertical-align: top;\n",
       "    }\n",
       "\n",
       "    .dataframe thead th {\n",
       "        text-align: right;\n",
       "    }\n",
       "</style>\n",
       "<table border=\"1\" class=\"dataframe\">\n",
       "  <thead>\n",
       "    <tr style=\"text-align: right;\">\n",
       "      <th>Price</th>\n",
       "      <th>Ticker</th>\n",
       "      <th>Adj Close</th>\n",
       "      <th>Close</th>\n",
       "      <th>High</th>\n",
       "      <th>Low</th>\n",
       "      <th>Open</th>\n",
       "      <th>Volume</th>\n",
       "    </tr>\n",
       "    <tr>\n",
       "      <th>Date</th>\n",
       "      <th></th>\n",
       "      <th></th>\n",
       "      <th></th>\n",
       "      <th></th>\n",
       "      <th></th>\n",
       "      <th></th>\n",
       "      <th></th>\n",
       "    </tr>\n",
       "  </thead>\n",
       "  <tbody>\n",
       "    <tr>\n",
       "      <th>2020-01-02</th>\n",
       "      <td>TSLA</td>\n",
       "      <td>28.684000</td>\n",
       "      <td>28.684000</td>\n",
       "      <td>28.713333</td>\n",
       "      <td>28.114000</td>\n",
       "      <td>28.299999</td>\n",
       "      <td>142981500</td>\n",
       "    </tr>\n",
       "    <tr>\n",
       "      <th>2020-01-03</th>\n",
       "      <td>TSLA</td>\n",
       "      <td>29.534000</td>\n",
       "      <td>29.534000</td>\n",
       "      <td>30.266666</td>\n",
       "      <td>29.128000</td>\n",
       "      <td>29.366667</td>\n",
       "      <td>266677500</td>\n",
       "    </tr>\n",
       "    <tr>\n",
       "      <th>2020-01-06</th>\n",
       "      <td>TSLA</td>\n",
       "      <td>30.102667</td>\n",
       "      <td>30.102667</td>\n",
       "      <td>30.104000</td>\n",
       "      <td>29.333332</td>\n",
       "      <td>29.364668</td>\n",
       "      <td>151995000</td>\n",
       "    </tr>\n",
       "    <tr>\n",
       "      <th>2020-01-07</th>\n",
       "      <td>TSLA</td>\n",
       "      <td>31.270666</td>\n",
       "      <td>31.270666</td>\n",
       "      <td>31.441999</td>\n",
       "      <td>30.224001</td>\n",
       "      <td>30.760000</td>\n",
       "      <td>268231500</td>\n",
       "    </tr>\n",
       "    <tr>\n",
       "      <th>2020-01-08</th>\n",
       "      <td>TSLA</td>\n",
       "      <td>32.809334</td>\n",
       "      <td>32.809334</td>\n",
       "      <td>33.232666</td>\n",
       "      <td>31.215334</td>\n",
       "      <td>31.580000</td>\n",
       "      <td>467164500</td>\n",
       "    </tr>\n",
       "    <tr>\n",
       "      <th>...</th>\n",
       "      <td>...</td>\n",
       "      <td>...</td>\n",
       "      <td>...</td>\n",
       "      <td>...</td>\n",
       "      <td>...</td>\n",
       "      <td>...</td>\n",
       "      <td>...</td>\n",
       "    </tr>\n",
       "    <tr>\n",
       "      <th>2025-06-12</th>\n",
       "      <td>NVDA</td>\n",
       "      <td>145.000000</td>\n",
       "      <td>145.000000</td>\n",
       "      <td>145.000000</td>\n",
       "      <td>141.850006</td>\n",
       "      <td>141.970001</td>\n",
       "      <td>162365000</td>\n",
       "    </tr>\n",
       "    <tr>\n",
       "      <th>2025-06-13</th>\n",
       "      <td>NVDA</td>\n",
       "      <td>141.970001</td>\n",
       "      <td>141.970001</td>\n",
       "      <td>143.580002</td>\n",
       "      <td>140.850006</td>\n",
       "      <td>142.479996</td>\n",
       "      <td>180820600</td>\n",
       "    </tr>\n",
       "    <tr>\n",
       "      <th>2025-06-16</th>\n",
       "      <td>NVDA</td>\n",
       "      <td>144.690002</td>\n",
       "      <td>144.690002</td>\n",
       "      <td>146.179993</td>\n",
       "      <td>143.199997</td>\n",
       "      <td>143.350006</td>\n",
       "      <td>183133700</td>\n",
       "    </tr>\n",
       "    <tr>\n",
       "      <th>2025-06-17</th>\n",
       "      <td>NVDA</td>\n",
       "      <td>144.119995</td>\n",
       "      <td>144.119995</td>\n",
       "      <td>145.220001</td>\n",
       "      <td>143.779999</td>\n",
       "      <td>144.490005</td>\n",
       "      <td>139108000</td>\n",
       "    </tr>\n",
       "    <tr>\n",
       "      <th>2025-06-18</th>\n",
       "      <td>NVDA</td>\n",
       "      <td>145.479996</td>\n",
       "      <td>145.479996</td>\n",
       "      <td>145.649994</td>\n",
       "      <td>143.119995</td>\n",
       "      <td>144.009995</td>\n",
       "      <td>161494100</td>\n",
       "    </tr>\n",
       "  </tbody>\n",
       "</table>\n",
       "<p>6865 rows × 7 columns</p>\n",
       "</div>"
      ],
      "text/plain": [
       "Price      Ticker   Adj Close       Close        High         Low        Open  \\\n",
       "Date                                                                            \n",
       "2020-01-02   TSLA   28.684000   28.684000   28.713333   28.114000   28.299999   \n",
       "2020-01-03   TSLA   29.534000   29.534000   30.266666   29.128000   29.366667   \n",
       "2020-01-06   TSLA   30.102667   30.102667   30.104000   29.333332   29.364668   \n",
       "2020-01-07   TSLA   31.270666   31.270666   31.441999   30.224001   30.760000   \n",
       "2020-01-08   TSLA   32.809334   32.809334   33.232666   31.215334   31.580000   \n",
       "...           ...         ...         ...         ...         ...         ...   \n",
       "2025-06-12   NVDA  145.000000  145.000000  145.000000  141.850006  141.970001   \n",
       "2025-06-13   NVDA  141.970001  141.970001  143.580002  140.850006  142.479996   \n",
       "2025-06-16   NVDA  144.690002  144.690002  146.179993  143.199997  143.350006   \n",
       "2025-06-17   NVDA  144.119995  144.119995  145.220001  143.779999  144.490005   \n",
       "2025-06-18   NVDA  145.479996  145.479996  145.649994  143.119995  144.009995   \n",
       "\n",
       "Price          Volume  \n",
       "Date                   \n",
       "2020-01-02  142981500  \n",
       "2020-01-03  266677500  \n",
       "2020-01-06  151995000  \n",
       "2020-01-07  268231500  \n",
       "2020-01-08  467164500  \n",
       "...               ...  \n",
       "2025-06-12  162365000  \n",
       "2025-06-13  180820600  \n",
       "2025-06-16  183133700  \n",
       "2025-06-17  139108000  \n",
       "2025-06-18  161494100  \n",
       "\n",
       "[6865 rows x 7 columns]"
      ]
     },
     "execution_count": 16,
     "metadata": {},
     "output_type": "execute_result"
    }
   ],
   "source": [
    "tickers = [\"TSLA\", \"MSFT\", \"AMZN\", \"META\", \"NVDA\"]\n",
    "groups = []\n",
    "\n",
    "\n",
    "for ticker in tickers:\n",
    "    data = yf.download(ticker,start = \"2020-01-01\",auto_adjust=False)\n",
    "    data.columns = data.columns.droplevel(1)\n",
    "    data.insert(0, \"Ticker\", ticker)\n",
    "    groups.append(data)\n",
    "groups\n",
    "# groups start from empty and after \"for\" it is now full of data\n",
    "# data is the temporary thing: download the data and remove the column level 1; but group is what we finally want, with ticker\n",
    "# the adj_close is the price adjusted by dividend and payments? etc.\n",
    "multi_df = pd.concat(groups)\n",
    "multi_df\n"
   ]
  },
  {
   "attachments": {},
   "cell_type": "markdown",
   "metadata": {},
   "source": [
    "#### Multi-Stock Time Series Data (CRSP)\n",
    "\n",
    "Maybe instead of Yahoo! Finance, you took advantage of the [College WRDS access](https://www.imperial.ac.uk/admin-services/library/subject-support/business/crsp/), or obtained a CSV with your data in some other way.\n",
    "\n",
    "Let's work with our panel data as before."
   ]
  },
  {
   "cell_type": "code",
   "execution_count": 24,
   "metadata": {},
   "outputs": [],
   "source": []
  },
  {
   "cell_type": "code",
   "execution_count": 25,
   "metadata": {},
   "outputs": [],
   "source": []
  },
  {
   "attachments": {},
   "cell_type": "markdown",
   "metadata": {},
   "source": [
    "## Calculating Portfolio Daily Returns\n",
    "\n",
    "First, let's determine the returns of our portfolio. We'll need to start with the daily returns of each stock, and then use `np.dot()` to mutliply each column of returns against its weight in the portfolio."
   ]
  },
  {
   "cell_type": "code",
   "execution_count": 26,
   "metadata": {},
   "outputs": [],
   "source": []
  },
  {
   "attachments": {},
   "cell_type": "markdown",
   "metadata": {},
   "source": [
    "## Annualising Returns and Volatility\n",
    "\n",
    "To provide a broader picture of our portfolio's performance, let's calculate the annualised portfolio return and volatility. These are important metrics for evaluating and discussing portfolios. They are also used frequently in more advanced financial analyses."
   ]
  },
  {
   "cell_type": "code",
   "execution_count": 27,
   "metadata": {},
   "outputs": [],
   "source": []
  },
  {
   "attachments": {},
   "cell_type": "markdown",
   "metadata": {},
   "source": [
    "## Sharpe Ratio\n",
    "\n",
    "The Sharpe Ratio is a measure that helps investors understand the risk-adjusted return of an investment. A high Sharpe ratio indicates that the portfolio's returns are higher for each unit of risk taken on. In contrast, a lower Sharpe Ratio indicates a less favorable risk-reward trade-off, with the potential for lower returns relative to the amount of risk being assumed.\n",
    "\n",
    "The Sharpe Ratio is calculated using annualised portfolio returns, portfolio volatility (as the measure of risk), and the *risk-free rate*. The risk-free rate is often derived from the yield of a theoretically risk-free investment, typically a government bond. The Sharpe Ratio is the average return earned in excess of the risk-free rate per unit of volatility or total risk."
   ]
  },
  {
   "attachments": {},
   "cell_type": "markdown",
   "metadata": {},
   "source": [
    "### Exercise: Looking Sharpe\n",
    "\n",
    "Calculate the Sharpe Ratio for our portfolio by applying the formula below.\n",
    "\n",
    "$$ \\text{Sharpe Ratio} = \\frac{R_p - R_f}{\\sigma_p} $$\n",
    "\n",
    "- $R_p$ is our annualised portfolio return\n",
    "- $R_f$ is the risk-free rate\n",
    "- $\\sigma_p$ is our annualised volatility\n"
   ]
  },
  {
   "cell_type": "code",
   "execution_count": 28,
   "metadata": {},
   "outputs": [],
   "source": [
    "## YOUR CODE GOES HERE"
   ]
  }
 ],
 "metadata": {
  "kernelspec": {
   "display_name": "Python 3",
   "language": "python",
   "name": "python3"
  },
  "language_info": {
   "codemirror_mode": {
    "name": "ipython",
    "version": 3
   },
   "file_extension": ".py",
   "mimetype": "text/x-python",
   "name": "python",
   "nbconvert_exporter": "python",
   "pygments_lexer": "ipython3",
   "version": "3.12.1"
  }
 },
 "nbformat": 4,
 "nbformat_minor": 2
}
